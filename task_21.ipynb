{
 "cells": [
  {
   "cell_type": "code",
   "execution_count": 1,
   "metadata": {},
   "outputs": [],
   "source": [
    "import numpy as np"
   ]
  },
  {
   "cell_type": "markdown",
   "metadata": {},
   "source": [
    "Создайте массив , состоящий из 10 случайных целых чисел из диапазона от 1 до 20, затем создайте массив состоящий из 10 элементов, начиная с 2. Выведите значения этих массивов, а также их сумму, при помощи функции print()"
   ]
  },
  {
   "cell_type": "code",
   "execution_count": 7,
   "metadata": {},
   "outputs": [
    {
     "name": "stdout",
     "output_type": "stream",
     "text": [
      "[20  3  1 17 10 12 17 13  2 10]\n",
      "[ 2  3  4  5  6  7  8  9 10 11]\n",
      "[22  6  5 22 16 19 25 22 12 21]\n"
     ]
    }
   ],
   "source": [
    "arr_1 = np.random.randint(1, 21, 10)\n",
    "arr_2 = np.arange(2, 12)\n",
    "print(arr_1)\n",
    "print(arr_2)\n",
    "print(arr_1 + arr_2)"
   ]
  },
  {
   "cell_type": "markdown",
   "metadata": {},
   "source": [
    "Создайте массив , состоящий из 7 случайных целых чисел из диапазона от 0 до 9, затем создайте новый массив состоящий из 7 элементов первого массива, увеличенных в 3 раза. Выведите значения этих массивов при помощи функции print()"
   ]
  },
  {
   "cell_type": "code",
   "execution_count": 8,
   "metadata": {},
   "outputs": [
    {
     "name": "stdout",
     "output_type": "stream",
     "text": [
      "[7 0 5 3 7 9 6]\n",
      "[21  0 15  9 21 27 18]\n"
     ]
    }
   ],
   "source": [
    "arr_1 = np.random.randint(0, 10, 7)\n",
    "arr_2 = arr_1 * 3\n",
    "print(arr_1)\n",
    "print(arr_2)"
   ]
  },
  {
   "cell_type": "markdown",
   "metadata": {},
   "source": [
    "Создайте массив состоящий из квадратных корней 20 элементов по порядку, начиная с 7. Выведите значение массива при помощи функции print()"
   ]
  },
  {
   "cell_type": "code",
   "execution_count": 10,
   "metadata": {},
   "outputs": [
    {
     "name": "stdout",
     "output_type": "stream",
     "text": [
      "[2.64575131 2.82842712 3.         3.16227766 3.31662479 3.46410162\n",
      " 3.60555128 3.74165739 3.87298335 4.         4.12310563 4.24264069\n",
      " 4.35889894 4.47213595 4.58257569 4.69041576 4.79583152 4.89897949\n",
      " 5.         5.09901951]\n"
     ]
    }
   ],
   "source": [
    "arr = np.sqrt(np.arange(7, 27))\n",
    "print(arr)"
   ]
  },
  {
   "cell_type": "code",
   "execution_count": null,
   "metadata": {},
   "outputs": [],
   "source": []
  }
 ],
 "metadata": {
  "kernelspec": {
   "display_name": "Python 3",
   "language": "python",
   "name": "python3"
  },
  "language_info": {
   "codemirror_mode": {
    "name": "ipython",
    "version": 3
   },
   "file_extension": ".py",
   "mimetype": "text/x-python",
   "name": "python",
   "nbconvert_exporter": "python",
   "pygments_lexer": "ipython3",
   "version": "3.7.6"
  }
 },
 "nbformat": 4,
 "nbformat_minor": 4
}
